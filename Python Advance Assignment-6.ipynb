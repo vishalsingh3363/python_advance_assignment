{
 "cells": [
  {
   "cell_type": "code",
   "execution_count": null,
   "id": "1f91596b",
   "metadata": {},
   "outputs": [],
   "source": [
    "Q1. Describe three applications for exception processing.\n",
    "\n",
    "Ans-1 Exception Processing is important to find exceptions that causes the runtime error. As runtime errors Halt the program execution when exception occurs.\n",
    "Exception Processing is used in Various Applications of which few examples are:\n",
    "\n",
    "Checking Appropriate use of input in an application\n",
    "Checking for Arithmetic exceptions in mathematical executions\n",
    "Checking File I/O exceptions during File handling"
   ]
  },
  {
   "cell_type": "code",
   "execution_count": null,
   "id": "641f1c7c",
   "metadata": {},
   "outputs": [],
   "source": [
    "Q2. What happens if you don't do something extra to treat an exception?\n",
    "\n",
    "Ans-2 debugging will become difficult"
   ]
  },
  {
   "cell_type": "code",
   "execution_count": null,
   "id": "a24f51de",
   "metadata": {},
   "outputs": [],
   "source": [
    "Q3. What are your options for recovering from an exception in your script?\n",
    "\n",
    "Ans-3 Use exception handlers like try and except"
   ]
  },
  {
   "cell_type": "code",
   "execution_count": null,
   "id": "1b8269f8",
   "metadata": {},
   "outputs": [],
   "source": [
    "Q4. Describe two methods for triggering exceptions in your script.\n",
    "\n",
    "Ans-4 raise and assert are two methods that can be used to trigger manual exceptions in your script"
   ]
  },
  {
   "cell_type": "code",
   "execution_count": null,
   "id": "24897f53",
   "metadata": {},
   "outputs": [],
   "source": [
    "Q5. Identify two methods for specifying actions to be executed at termination time, regardless of\n",
    "whether or not an exception exists.\n",
    "\n",
    "Ans-5 Python Provides else and finally blocks for specifying actions to be executed at termination time, regardless of whether an exceptions exists or not"
   ]
  },
  {
   "cell_type": "code",
   "execution_count": null,
   "id": "73525ef2",
   "metadata": {},
   "outputs": [],
   "source": []
  }
 ],
 "metadata": {
  "kernelspec": {
   "display_name": "Python 3 (ipykernel)",
   "language": "python",
   "name": "python3"
  },
  "language_info": {
   "codemirror_mode": {
    "name": "ipython",
    "version": 3
   },
   "file_extension": ".py",
   "mimetype": "text/x-python",
   "name": "python",
   "nbconvert_exporter": "python",
   "pygments_lexer": "ipython3",
   "version": "3.9.12"
  }
 },
 "nbformat": 4,
 "nbformat_minor": 5
}
