{
 "cells": [
  {
   "cell_type": "code",
   "execution_count": null,
   "id": "a523cd17",
   "metadata": {},
   "outputs": [],
   "source": [
    "Q1. What is the relationship between classes and modules?\n",
    "\n",
    "Ans-1 module is superclass of class and class is superclass of object"
   ]
  },
  {
   "cell_type": "code",
   "execution_count": null,
   "id": "fa59184f",
   "metadata": {},
   "outputs": [],
   "source": [
    "Q2. How do you make instances and classes?\n",
    "\n",
    "Ans-2 \n",
    "class Test():\n",
    "    x=10\n",
    "    def __init__(self,a,b):\n",
    "        self.a=a\n",
    "        self.b=b\n",
    "    def show(self):\n",
    "        print (self.a , self.b)\n",
    "\n",
    "t1=test(3,4)\n",
    "t2=test(5,6)\n",
    "\n",
    "\n",
    "#here class is test and instane is t1 and t2"
   ]
  },
  {
   "cell_type": "code",
   "execution_count": null,
   "id": "01884169",
   "metadata": {},
   "outputs": [],
   "source": [
    "Q3. Where and how should be class attributes created?\n",
    "\n",
    "Ans-3 \n",
    "class person:\n",
    "    def __init__(self, name,age):\n",
    "        self.name= name\n",
    "        self.age=age\n",
    "        \n",
    "#these are class attribute- self, name,age"
   ]
  },
  {
   "cell_type": "code",
   "execution_count": null,
   "id": "8886320a",
   "metadata": {},
   "outputs": [],
   "source": [
    "Q4. Where and how are instance attributes created?\n",
    "\n",
    "Ans-4 class person:\n",
    "    def __init__(self, name,age):\n",
    "        self.name= name\n",
    "        self.age=age\n",
    "        \n",
    "#these are instance attributes-  self.name= name, self.age=age\n",
    "        \n"
   ]
  },
  {
   "cell_type": "code",
   "execution_count": null,
   "id": "99464ec2",
   "metadata": {},
   "outputs": [],
   "source": [
    "Q5. What does the term 'self' in a Python class mean?\n",
    "\n",
    "Ans-5 it represent instance of class"
   ]
  },
  {
   "cell_type": "code",
   "execution_count": null,
   "id": "1747ebc6",
   "metadata": {},
   "outputs": [],
   "source": [
    "Q6. How does a Python class handle operator overloading?\n",
    "\n",
    "Ans-6 By including init() method in class."
   ]
  },
  {
   "cell_type": "code",
   "execution_count": null,
   "id": "75599793",
   "metadata": {},
   "outputs": [],
   "source": [
    "Q7. When do you consider allowing operator overloading of your classes?\n",
    "\n",
    "Ans-7 Aim of overloading is to provide a special meaning of an operator for a user-defined data type"
   ]
  },
  {
   "cell_type": "code",
   "execution_count": null,
   "id": "149caa8d",
   "metadata": {},
   "outputs": [],
   "source": [
    "Q8. What is the most popular form of operator overloading?\n",
    "\n",
    "Ans-8 Adding up operator \"+\""
   ]
  },
  {
   "cell_type": "code",
   "execution_count": null,
   "id": "8a0d7593",
   "metadata": {},
   "outputs": [],
   "source": [
    "Q9. What are the two most important concepts to grasp in order to comprehend Python OOP code?\n",
    "\n",
    "Ans-9 two important concepts are polymorphism and inheritance.\n"
   ]
  }
 ],
 "metadata": {
  "kernelspec": {
   "display_name": "Python 3 (ipykernel)",
   "language": "python",
   "name": "python3"
  },
  "language_info": {
   "codemirror_mode": {
    "name": "ipython",
    "version": 3
   },
   "file_extension": ".py",
   "mimetype": "text/x-python",
   "name": "python",
   "nbconvert_exporter": "python",
   "pygments_lexer": "ipython3",
   "version": "3.9.12"
  }
 },
 "nbformat": 4,
 "nbformat_minor": 5
}
