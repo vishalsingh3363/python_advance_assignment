{
 "cells": [
  {
   "cell_type": "code",
   "execution_count": null,
   "id": "56797cf0",
   "metadata": {},
   "outputs": [],
   "source": [
    "Q1. In Python 3.X, what are the names and functions of string object types?\n",
    "\n",
    "Ans-1 \n",
    "Method-escription\n",
    "capitalize()-convert the first character to upper case\n",
    "casefold()\tConverts string into lower case\n",
    "center()\tReturns a centered string\n",
    "count()\tReturns the number of times a specified value occurs in a string\n",
    "encode()\tReturns an encoded version of the string\n",
    "endswith()\tReturns true if the string ends with the specified value\n",
    "expandtabs()\tSets the tab size of the string\n",
    "find()\tSearches the string for a specified value and returns the position of where it was found\n",
    "format()\tFormats specified values in a string\n",
    "format_map()\tFormats specified values in a string\n",
    "index()\tSearches the string for a specified value and returns the position of where it was found\n",
    "isalnum()\tReturns True if all characters in the string are alphanumeric\n",
    "isalpha()\tReturns True if all characters in the string are in the alphabet\n",
    "isascii()\tReturns True if all characters in the string are ascii characters\n",
    "isdecimal()\tReturns True if all characters in the string are decimals\n",
    "isdigit()\tReturns True if all characters in the string are digits\n",
    "isidentifier()\tReturns True if the string is an identifier\n",
    "islower()\tReturns True if all characters in the string are lower case\n",
    "isnumeric()\tReturns True if all characters in the string are numeric\n",
    "isprintable()\tReturns True if all characters in the string are printable\n",
    "isspace()\tReturns True if all characters in the string are whitespaces\n",
    "istitle()\tReturns True if the string follows the rules of a title\n",
    "isupper()\tReturns True if all characters in the string are upper case\n",
    "join()\tConverts the elements of an iterable into a string\n",
    "ljust()\tReturns a left justified version of the string\n",
    "lower()\tConverts a string into lower case\n",
    "lstrip()\tReturns a left trim version of the string\n",
    "maketrans()\tReturns a translation table to be used in translations\n",
    "partition()\tReturns a tuple where the string is parted into three parts\n",
    "replace()\tReturns a string where a specified value is replaced with a specified value\n",
    "rfind()\tSearches the string for a specified value and returns the last position of where it was found\n",
    "rindex()\tSearches the string for a specified value and returns the last position of where it was found\n",
    "rjust()\tReturns a right justified version of the string\n",
    "rpartition()\tReturns a tuple where the string is parted into three parts\n",
    "rsplit()\tSplits the string at the specified separator, and returns a list\n",
    "rstrip()\tReturns a right trim version of the string\n",
    "split()\tSplits the string at the specified separator, and returns a list\n",
    "splitlines()\tSplits the string at line breaks and returns a list\n",
    "startswith()\tReturns true if the string starts with the specified value\n",
    "strip()\tReturns a trimmed version of the string\n",
    "swapcase()\tSwaps cases, lower case becomes upper case and vice versa\n",
    "title()\tConverts the first character of each word to upper case\n",
    "translate()\tReturns a translated string\n",
    "upper()\tConverts a string into upper case\n",
    "zfill()\tFills the string with a specified number of 0 values at the beginning"
   ]
  },
  {
   "cell_type": "code",
   "execution_count": null,
   "id": "28165e10",
   "metadata": {},
   "outputs": [],
   "source": [
    "Q2. How do the string forms in Python 3.X vary in terms of operations?\n",
    "\n",
    "Ans-2. len(), str(), lower() and upper(), strip(), isdigit(), isalpha(), isspace(), startswith()"
   ]
  },
  {
   "cell_type": "code",
   "execution_count": null,
   "id": "d47fe867",
   "metadata": {},
   "outputs": [],
   "source": [
    "Q3. In 3.X, how do you put non-ASCII Unicode characters in a string?\n",
    "\n",
    "Ans-3 Python allows Unicode string literals to be specified by adding a u character prefix before the string literal"
   ]
  },
  {
   "cell_type": "code",
   "execution_count": null,
   "id": "ee2d9ad4",
   "metadata": {},
   "outputs": [],
   "source": [
    "Q4. In Python 3.X, what are the key differences between text-mode and binary-mode files?\n",
    "\n",
    "Ans-4. Binary mode file contain data in form of 0 and 1, text mode file contain data in form of text.\n"
   ]
  },
  {
   "cell_type": "code",
   "execution_count": null,
   "id": "cf5fa2f6",
   "metadata": {},
   "outputs": [],
   "source": [
    "Q5. How can you interpret a Unicode text file containing text encoded in a different encoding than\n",
    "your platforms default?\n",
    "\n",
    "Ans-5."
   ]
  },
  {
   "cell_type": "code",
   "execution_count": null,
   "id": "b09caf06",
   "metadata": {},
   "outputs": [],
   "source": [
    "Q6. What is the best way to make a Unicode text file in a particular encoding format?\n",
    "\n",
    "Ans-6. Steps to make unicode file i n encoding format :-\n",
    "-Open Notepad\n",
    "-Open the file has ANSI encoding,\n",
    "-Double Click \"ANSI\" word at the bottom\n",
    "-Select new Encoding such as \"utf8\"\n",
    "-Save the file."
   ]
  },
  {
   "cell_type": "code",
   "execution_count": null,
   "id": "4123df7c",
   "metadata": {},
   "outputs": [],
   "source": [
    "Q7. What qualifies ASCII text as a form of Unicode text?\n",
    "\n",
    "Ans-7.Unicode is a superset of ASCII, and the numbers 0–127 have the same meaning in ASCII as they have in Unicode"
   ]
  },
  {
   "cell_type": "code",
   "execution_count": null,
   "id": "59b449b6",
   "metadata": {},
   "outputs": [],
   "source": [
    "Q8. How much of an effect does the change in string types in Python 3.X have on your code?\n",
    "\n",
    "Ans-8.  "
   ]
  },
  {
   "cell_type": "code",
   "execution_count": null,
   "id": "47eb9f86",
   "metadata": {},
   "outputs": [],
   "source": []
  }
 ],
 "metadata": {
  "kernelspec": {
   "display_name": "Python 3 (ipykernel)",
   "language": "python",
   "name": "python3"
  },
  "language_info": {
   "codemirror_mode": {
    "name": "ipython",
    "version": 3
   },
   "file_extension": ".py",
   "mimetype": "text/x-python",
   "name": "python",
   "nbconvert_exporter": "python",
   "pygments_lexer": "ipython3",
   "version": "3.9.12"
  }
 },
 "nbformat": 4,
 "nbformat_minor": 5
}
