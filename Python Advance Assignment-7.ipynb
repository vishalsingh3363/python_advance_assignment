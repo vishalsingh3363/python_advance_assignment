{
 "cells": [
  {
   "cell_type": "code",
   "execution_count": null,
   "id": "7848f523",
   "metadata": {},
   "outputs": [],
   "source": [
    "Q1. What is the purpose of the try statement?\n",
    "\n",
    "Ans-1 Purpose of try statement is purpose catching"
   ]
  },
  {
   "cell_type": "code",
   "execution_count": null,
   "id": "fe9ebcdc",
   "metadata": {},
   "outputs": [],
   "source": [
    "Q2. What are the two most popular try statement variations?\n",
    "\n",
    "Ans-2 try and except"
   ]
  },
  {
   "cell_type": "code",
   "execution_count": null,
   "id": "7df5e2ea",
   "metadata": {},
   "outputs": [],
   "source": [
    "Q3. What is the purpose of the raise statement?\n",
    "\n",
    "Ans-3 it raises an exception"
   ]
  },
  {
   "cell_type": "code",
   "execution_count": null,
   "id": "151bdd4c",
   "metadata": {},
   "outputs": [],
   "source": [
    "Q4. What does the assert statement do, and what other statement is it like?\n",
    "\n",
    "Ans-4 assert statement use to enforce some condition in program"
   ]
  },
  {
   "cell_type": "code",
   "execution_count": null,
   "id": "d5c74fff",
   "metadata": {},
   "outputs": [],
   "source": [
    "Q5. What is the purpose of the with/as argument, and what other statement is it like?\n",
    "\n",
    "Ans-5 With/as argument are used to solve the problem of the number of arguments passed. "
   ]
  }
 ],
 "metadata": {
  "kernelspec": {
   "display_name": "Python 3 (ipykernel)",
   "language": "python",
   "name": "python3"
  },
  "language_info": {
   "codemirror_mode": {
    "name": "ipython",
    "version": 3
   },
   "file_extension": ".py",
   "mimetype": "text/x-python",
   "name": "python",
   "nbconvert_exporter": "python",
   "pygments_lexer": "ipython3",
   "version": "3.9.12"
  }
 },
 "nbformat": 4,
 "nbformat_minor": 5
}
