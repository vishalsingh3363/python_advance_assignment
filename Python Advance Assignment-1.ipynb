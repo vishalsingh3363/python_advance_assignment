{
 "cells": [
  {
   "cell_type": "code",
   "execution_count": null,
   "id": "7629179f",
   "metadata": {},
   "outputs": [],
   "source": [
    "#Q1. What is the purpose of Python&#39;s OOP?\n",
    "\n",
    "Ans-1 It provides advantage in creating and development of software for real life application"
   ]
  },
  {
   "cell_type": "code",
   "execution_count": null,
   "id": "a4c92947",
   "metadata": {},
   "outputs": [],
   "source": [
    "#Q2. Where does an inheritance search look for an attribute?\n",
    "\n",
    "Ans-2  from bottom to top and left to right"
   ]
  },
  {
   "cell_type": "code",
   "execution_count": null,
   "id": "0973ebf6",
   "metadata": {},
   "outputs": [],
   "source": [
    "#Q3. How do you distinguish between a class object and an instance object?\n",
    "\n",
    "Ans-3 There is only one class object in which static variable are present, instance can be created as many as we want.\n",
    "to create instance object we have to put paranthesis after class name"
   ]
  },
  {
   "cell_type": "code",
   "execution_count": null,
   "id": "8b247a16",
   "metadata": {},
   "outputs": [],
   "source": [
    "#Q4. What makes the first argument in a class’s method function special?\n",
    "\n",
    "Ans-4 first function in class method is class itself\n"
   ]
  },
  {
   "cell_type": "code",
   "execution_count": null,
   "id": "959ad57d",
   "metadata": {},
   "outputs": [],
   "source": [
    "#Q5. What is the purpose of the __init__ method?\n",
    "Ans-5 it provide information and data while creating an instanc of class\n"
   ]
  },
  {
   "cell_type": "code",
   "execution_count": 6,
   "id": "40afb17e",
   "metadata": {},
   "outputs": [
    {
     "name": "stdout",
     "output_type": "stream",
     "text": [
      "<__main__.car object at 0x00000237FC506BB0>\n"
     ]
    }
   ],
   "source": [
    "#Q6. What is the process for creating a class instance?\n",
    "\n",
    "#Ans-5 Class instance are item define by classes.\n",
    "\n",
    "class car:\n",
    "    def __init__(self, weight, color, year):\n",
    "        self.weight= weight\n",
    "        self.color=color\n",
    "        self.year=year\n",
    "        \n",
    "\n",
    "civic2017= car(\"1224\",\"silver\",\"2017\")\n",
    "\n",
    "print(civic2017)"
   ]
  },
  {
   "cell_type": "code",
   "execution_count": null,
   "id": "1932855b",
   "metadata": {},
   "outputs": [],
   "source": [
    "#Q7. What is the process for creating a class?\n",
    "\n",
    "Ans-7 \n",
    "class car:\n",
    "    pass"
   ]
  },
  {
   "cell_type": "code",
   "execution_count": null,
   "id": "f52c272e",
   "metadata": {},
   "outputs": [],
   "source": [
    "#Q8. How would you define the superclasses of a class?\n",
    "\n",
    "Ans-8 it is a class from which many subclass can be created , these sub class inherit characterstic of superclass"
   ]
  }
 ],
 "metadata": {
  "kernelspec": {
   "display_name": "Python 3 (ipykernel)",
   "language": "python",
   "name": "python3"
  },
  "language_info": {
   "codemirror_mode": {
    "name": "ipython",
    "version": 3
   },
   "file_extension": ".py",
   "mimetype": "text/x-python",
   "name": "python",
   "nbconvert_exporter": "python",
   "pygments_lexer": "ipython3",
   "version": "3.9.12"
  }
 },
 "nbformat": 4,
 "nbformat_minor": 5
}
