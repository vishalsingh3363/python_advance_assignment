{
 "cells": [
  {
   "cell_type": "code",
   "execution_count": null,
   "id": "a58d1984",
   "metadata": {},
   "outputs": [],
   "source": [
    "Q1. Does assigning a value to a string's indexed character violate Python's string immutability?\n",
    "\n",
    "Ans-1 n Python, a string is immutable. You cannot overwrite the values of immutable objects.\n",
    "However, you can assign the variable again, It's not modifying the string object; it's creating a new string object."
   ]
  },
  {
   "cell_type": "code",
   "execution_count": null,
   "id": "d6c8e611",
   "metadata": {},
   "outputs": [],
   "source": [
    "Q2. Does using the += operator to concatenate strings violate Python&#39;s string immutability? Why or\n",
    "why not?\n",
    "\n",
    "Ans-2 You can append another string to a string with the in-place operator, +=. The string on the right is concatenated after the string variable on the left.\n",
    "this do not violate python string immutability because in this we are not changing indexes of string we are just adding them\n"
   ]
  },
  {
   "cell_type": "code",
   "execution_count": null,
   "id": "7fc4719a",
   "metadata": {},
   "outputs": [],
   "source": [
    "Q3. In Python, how many different ways are there to index a character?\n",
    "\n",
    "Ans-3  Individual characters in a string can be accessed by specifying the string name followed by a number in square brackets ([])."
   ]
  },
  {
   "cell_type": "code",
   "execution_count": null,
   "id": "acf4ed4a",
   "metadata": {},
   "outputs": [],
   "source": [
    "Q4. What is the relationship between indexing and slicing?\n",
    "\n",
    "Ans-4 Indexing: Indexing is used to obtain individual elements.\n",
    "\n",
    "Slicing: Slicing is used to obtain a sequence of elements."
   ]
  },
  {
   "cell_type": "code",
   "execution_count": null,
   "id": "d1cc58b4",
   "metadata": {},
   "outputs": [],
   "source": [
    "Q5. What is an indexed character exact data type? What is the data form of a slicing-generated\n",
    "substring?\n",
    "\n",
    "Ans-5 class 'str, "
   ]
  },
  {
   "cell_type": "code",
   "execution_count": null,
   "id": "7f12d1a3",
   "metadata": {},
   "outputs": [],
   "source": [
    "Q6. What is the relationship between string and character types in Python?\n",
    "\n",
    "Ans-6 The main difference between Character and String is that Character refers to a single letter, number, space, punctuation mark or a symbol that can be represented using a computer while String refers to a set of characters."
   ]
  },
  {
   "cell_type": "code",
   "execution_count": null,
   "id": "1e425f79",
   "metadata": {},
   "outputs": [],
   "source": [
    "Q7. Identify at least two operators and one method that allow you to combine one or more smaller\n",
    "strings to create a larger string.\n",
    "\n",
    "Ans-7 Concatenation operators join multiple strings into a single string. There are two concatenation operators, + and & . Both carry out the basic concatenation operation, as the following example shows."
   ]
  },
  {
   "cell_type": "code",
   "execution_count": null,
   "id": "52108994",
   "metadata": {},
   "outputs": [],
   "source": [
    "Q8. What is the benefit of first checking the target string with in or not in before using the index\n",
    "method to find a substring?\n",
    "\n",
    "Ans-8 The substring() method extracts characters, between two indices (positions), from a string, and returns the substring. The substring() method extracts characters from start to end (exclusive). The substring() method does not change the original string."
   ]
  },
  {
   "cell_type": "code",
   "execution_count": null,
   "id": "6fd49917",
   "metadata": {},
   "outputs": [],
   "source": [
    "Q9. Which operators and built-in string methods produce simple Boolean (true/false) results?\n",
    "\n",
    "Ans-9 Strings can also be used with Boolean operators. They are case-sensitive unless you employ an additional string method.\n",
    "\n",
    "example= \n",
    "\n",
    "Sammy = \"Sammy\"\n",
    "sammy = \"sammy\"\n",
    "\n",
    "print(\"Sammy == sammy: \", Sammy == sammy)"
   ]
  },
  {
   "cell_type": "code",
   "execution_count": null,
   "id": "53827a12",
   "metadata": {},
   "outputs": [],
   "source": []
  },
  {
   "cell_type": "code",
   "execution_count": null,
   "id": "ac199609",
   "metadata": {},
   "outputs": [],
   "source": []
  },
  {
   "cell_type": "code",
   "execution_count": null,
   "id": "9fa3c08f",
   "metadata": {},
   "outputs": [],
   "source": []
  },
  {
   "cell_type": "code",
   "execution_count": null,
   "id": "eec16289",
   "metadata": {},
   "outputs": [],
   "source": []
  },
  {
   "cell_type": "code",
   "execution_count": null,
   "id": "737e7e08",
   "metadata": {},
   "outputs": [],
   "source": []
  }
 ],
 "metadata": {
  "kernelspec": {
   "display_name": "Python 3 (ipykernel)",
   "language": "python",
   "name": "python3"
  },
  "language_info": {
   "codemirror_mode": {
    "name": "ipython",
    "version": 3
   },
   "file_extension": ".py",
   "mimetype": "text/x-python",
   "name": "python",
   "nbconvert_exporter": "python",
   "pygments_lexer": "ipython3",
   "version": "3.9.12"
  }
 },
 "nbformat": 4,
 "nbformat_minor": 5
}
