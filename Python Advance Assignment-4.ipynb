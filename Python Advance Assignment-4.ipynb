{
 "cells": [
  {
   "cell_type": "code",
   "execution_count": null,
   "id": "dacfb92b",
   "metadata": {},
   "outputs": [],
   "source": [
    "Q1. Which two operator overloading methods can you use in your classes to support iteration?\n",
    "\n",
    "Ans-1 __add__() and __str__()"
   ]
  },
  {
   "cell_type": "code",
   "execution_count": null,
   "id": "3425ffa4",
   "metadata": {},
   "outputs": [],
   "source": [
    "Q2. In what contexts do the two operator overloading methods manage printing?\n",
    "\n",
    "Ans-2 "
   ]
  },
  {
   "cell_type": "code",
   "execution_count": null,
   "id": "0e6cc522",
   "metadata": {},
   "outputs": [],
   "source": [
    "Q3. In a class, how do you intercept slice operations?\n",
    "\n",
    "Ans-3 pass object to \"setitem\" and \"delitem\""
   ]
  },
  {
   "cell_type": "code",
   "execution_count": null,
   "id": "3f602bdc",
   "metadata": {},
   "outputs": [],
   "source": [
    "Q4. In a class, how do you capture in-place addition?\n",
    "\n",
    "Ans-4 += in place addition"
   ]
  },
  {
   "cell_type": "code",
   "execution_count": null,
   "id": "fb953792",
   "metadata": {},
   "outputs": [],
   "source": [
    "Q5. When is it appropriate to use operator overloading?\n",
    "\n",
    "Ans-5 The purpose of operator overloading is to provide a special meaning of an operator for a user-defined data type."
   ]
  },
  {
   "cell_type": "code",
   "execution_count": null,
   "id": "28b2bfff",
   "metadata": {},
   "outputs": [],
   "source": []
  },
  {
   "cell_type": "code",
   "execution_count": null,
   "id": "6e828d25",
   "metadata": {},
   "outputs": [],
   "source": []
  }
 ],
 "metadata": {
  "kernelspec": {
   "display_name": "Python 3 (ipykernel)",
   "language": "python",
   "name": "python3"
  },
  "language_info": {
   "codemirror_mode": {
    "name": "ipython",
    "version": 3
   },
   "file_extension": ".py",
   "mimetype": "text/x-python",
   "name": "python",
   "nbconvert_exporter": "python",
   "pygments_lexer": "ipython3",
   "version": "3.9.12"
  }
 },
 "nbformat": 4,
 "nbformat_minor": 5
}
