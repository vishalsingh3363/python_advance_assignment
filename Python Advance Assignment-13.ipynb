{
 "cells": [
  {
   "cell_type": "code",
   "execution_count": null,
   "id": "763272f5",
   "metadata": {},
   "outputs": [],
   "source": [
    "Q1. Can you create a programme or function that employs both positive and negative indexing? Is\n",
    "there any repercussion if you do so?\n",
    "\n",
    "Ans-1  \n",
    "Positive-\n",
    "\n",
    "Lst = [50, 70, 30, 20, 90, 10, 50]\n",
    "print(Lst[1:8:2]\n",
    "\n",
    "Negative- \n",
    "Lst = [50, 70, 30, 20, 90, 10, 50]\n",
    "print(Lst[-7::1])"
   ]
  },
  {
   "cell_type": "code",
   "execution_count": null,
   "id": "c2a4fd55",
   "metadata": {},
   "outputs": [],
   "source": [
    "Q2. What is the most effective way of starting with 1,000 elements in a Python list? Assume that all\n",
    "elements should be set to the same value.\n",
    "\n",
    "Ans-2 you should consider numpy."
   ]
  },
  {
   "cell_type": "code",
   "execution_count": null,
   "id": "53671e35",
   "metadata": {},
   "outputs": [],
   "source": [
    "Q3. How do you slice a list to get any other part while missing the rest? (For example, suppose you\n",
    "want to make a new list with the elements first, third, fifth, seventh, and so on.)\n",
    "\n",
    "\n",
    "Lst = [50, 70, 30, 20, 90, 10, 50, 23, 11, 45, 23, 46, 78, 99]\n",
    "print(Lst[1:5:2]"
   ]
  },
  {
   "cell_type": "code",
   "execution_count": null,
   "id": "fa49ffcb",
   "metadata": {},
   "outputs": [],
   "source": [
    "Q4. Explain the distinctions between indexing and slicing.\n",
    "\n",
    "Ans-4\n",
    "Indexing: Indexing is used to obtain individual elements.\n",
    "\n",
    "Slicing: Slicing is used to obtain a sequence of elements."
   ]
  },
  {
   "cell_type": "code",
   "execution_count": null,
   "id": "a6ac142a",
   "metadata": {},
   "outputs": [],
   "source": [
    "Q5. What happens if one of the slicing expression indexes is out of range?\n",
    "\n",
    "Ans-5 The slicing operation doesn't raise an error if both your start and stop indices are larger than the sequence length. It simply returns an empty sequence."
   ]
  },
  {
   "cell_type": "code",
   "execution_count": null,
   "id": "b16cddc4",
   "metadata": {},
   "outputs": [],
   "source": [
    "Q6. If you pass a list to a function, and if you want the function to be able to change the values of the\n",
    "list—so that the list is different after the function returns—what action should you avoid?\n",
    "\n",
    "Ans-6 f you assign something to the variable list_arg, it will from then on point to the new value. The value it pointed to before that assignment (your original list) will stay unchanged."
   ]
  },
  {
   "cell_type": "code",
   "execution_count": null,
   "id": "ae1a5389",
   "metadata": {},
   "outputs": [],
   "source": [
    "Q7. What is the concept of an unbalanced matrix?\n",
    "\n",
    "Ans-7 Whenever the cost matrix of an assignment problem is not a square matrix, that is, whenever the number of sources is not equal to the number of destinations, the matrix is called an unbalanced matrix"
   ]
  },
  {
   "cell_type": "code",
   "execution_count": null,
   "id": "35de791d",
   "metadata": {},
   "outputs": [],
   "source": []
  },
  {
   "cell_type": "code",
   "execution_count": null,
   "id": "badf3338",
   "metadata": {},
   "outputs": [],
   "source": []
  }
 ],
 "metadata": {
  "kernelspec": {
   "display_name": "Python 3 (ipykernel)",
   "language": "python",
   "name": "python3"
  },
  "language_info": {
   "codemirror_mode": {
    "name": "ipython",
    "version": 3
   },
   "file_extension": ".py",
   "mimetype": "text/x-python",
   "name": "python",
   "nbconvert_exporter": "python",
   "pygments_lexer": "ipython3",
   "version": "3.9.12"
  }
 },
 "nbformat": 4,
 "nbformat_minor": 5
}
