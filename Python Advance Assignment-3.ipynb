{
 "cells": [
  {
   "cell_type": "code",
   "execution_count": null,
   "id": "133fc602",
   "metadata": {},
   "outputs": [],
   "source": [
    "1. What is the concept of an abstract superclass?\n",
    "\n",
    "Ans-1  this give access to method of parent class and return a tempory class object of parent class when used."
   ]
  },
  {
   "cell_type": "code",
   "execution_count": null,
   "id": "26f5f19f",
   "metadata": {},
   "outputs": [],
   "source": [
    "2. What happens when a class statement's top level contains a basic assignment statement?\n",
    "\n",
    "Ans-2  Python gives a special name to top-level statement s as __main__"
   ]
  },
  {
   "cell_type": "code",
   "execution_count": null,
   "id": "328d4150",
   "metadata": {},
   "outputs": [],
   "source": [
    "3. Why does a class need to manually call a superclass's __init__ method?\n",
    "\n",
    "Ans-3 It makes classes aware of each other if more than one class is defined in a single code file"
   ]
  },
  {
   "cell_type": "code",
   "execution_count": null,
   "id": "aa0dc86e",
   "metadata": {},
   "outputs": [],
   "source": [
    "4. How can you augment, instead of completely replacing, an inherited method?\n",
    "\n",
    "Abs-4 "
   ]
  },
  {
   "cell_type": "code",
   "execution_count": null,
   "id": "5ebb15ba",
   "metadata": {},
   "outputs": [],
   "source": [
    "5. How is the local scope of a class different from that of a function?\n",
    "\n",
    "Ans-5 local scope is area  between an { and it's closing }. Function scope is the area between the opening { of a function and its closing }, which may contain more \"local\" scopes"
   ]
  }
 ],
 "metadata": {
  "kernelspec": {
   "display_name": "Python 3 (ipykernel)",
   "language": "python",
   "name": "python3"
  },
  "language_info": {
   "codemirror_mode": {
    "name": "ipython",
    "version": 3
   },
   "file_extension": ".py",
   "mimetype": "text/x-python",
   "name": "python",
   "nbconvert_exporter": "python",
   "pygments_lexer": "ipython3",
   "version": "3.9.12"
  }
 },
 "nbformat": 4,
 "nbformat_minor": 5
}
