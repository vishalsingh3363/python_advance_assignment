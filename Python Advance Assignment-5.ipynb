{
 "cells": [
  {
   "cell_type": "code",
   "execution_count": null,
   "id": "91d8f2f1",
   "metadata": {},
   "outputs": [],
   "source": [
    "Q1. What is the meaning of multiple inheritance?\n",
    "\n",
    "Ans-1 multiple inheritance is feature from where we can inherit from more then one class"
   ]
  },
  {
   "cell_type": "code",
   "execution_count": null,
   "id": "6e90fa4a",
   "metadata": {},
   "outputs": [],
   "source": [
    "Q2. What is the concept of delegation?\n",
    "\n",
    "Ans-2 A delegate is an object-oriented, managed, secure and type-safe function pointer in the .NET framework."
   ]
  },
  {
   "cell_type": "code",
   "execution_count": null,
   "id": "2549e153",
   "metadata": {},
   "outputs": [],
   "source": [
    "Q3. What is the concept of composition?\n",
    "\n",
    "Ans-3 Composition module relationship between two classes"
   ]
  },
  {
   "cell_type": "code",
   "execution_count": null,
   "id": "0dd74015",
   "metadata": {},
   "outputs": [],
   "source": [
    "Q4. What are bound methods \n",
    "\n",
    "Ans-4 bound is one which has self as first argument. "
   ]
  },
  {
   "cell_type": "code",
   "execution_count": null,
   "id": "22ec1019",
   "metadata": {},
   "outputs": [],
   "source": [
    "Q5. What is the purpose of pseudoprivate attributes?\n",
    "\n",
    "Ans-5 Pseudoprivate attributes provide level of protection from user of your class from that attribute"
   ]
  },
  {
   "cell_type": "code",
   "execution_count": null,
   "id": "801d0049",
   "metadata": {},
   "outputs": [],
   "source": [
    " "
   ]
  },
  {
   "cell_type": "code",
   "execution_count": null,
   "id": "21322a28",
   "metadata": {},
   "outputs": [],
   "source": []
  }
 ],
 "metadata": {
  "kernelspec": {
   "display_name": "Python 3 (ipykernel)",
   "language": "python",
   "name": "python3"
  },
  "language_info": {
   "codemirror_mode": {
    "name": "ipython",
    "version": 3
   },
   "file_extension": ".py",
   "mimetype": "text/x-python",
   "name": "python",
   "nbconvert_exporter": "python",
   "pygments_lexer": "ipython3",
   "version": "3.9.12"
  }
 },
 "nbformat": 4,
 "nbformat_minor": 5
}
