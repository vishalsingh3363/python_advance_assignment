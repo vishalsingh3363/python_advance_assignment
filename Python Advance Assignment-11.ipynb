{
 "cells": [
  {
   "cell_type": "code",
   "execution_count": null,
   "id": "ea745bc2",
   "metadata": {},
   "outputs": [],
   "source": [
    "Q1. What is the concept of a metaclass?\n",
    "\n",
    "Ans-1 A metaclass in Python is a class of a class that defines how a class behaves. Metaclasses can be applied in logging, registration of classes at creation time and profiling among others"
   ]
  },
  {
   "cell_type": "code",
   "execution_count": null,
   "id": "62f33a08",
   "metadata": {},
   "outputs": [],
   "source": [
    "Q2. What is the best way to declare a class metaclass?\n",
    "\n",
    "Ans-2 A Class is also an object, and just like any other object, it’s an instance of something called Metaclass. A special class type creates these Class objects. The type class is default metaclass which is responsible for making classes. "
   ]
  },
  {
   "cell_type": "code",
   "execution_count": null,
   "id": "c44b38e4",
   "metadata": {},
   "outputs": [],
   "source": [
    "Q3. How do class decorators overlap with metaclasses for handling classes?\n",
    "\n",
    "Ans-3  Decorators allow us to wrap another function in order to extend the behaviour of the wrapped function, without permanently modifying it."
   ]
  },
  {
   "cell_type": "code",
   "execution_count": null,
   "id": "4edb6412",
   "metadata": {},
   "outputs": [],
   "source": [
    "Q4. How do class decorators overlap with metaclasses for handling instances?\n",
    "\n",
    "Ans-4 decorators i.e., the one that takes a class object and modifies it, in the course of the metaclass's __new__ or __init__ that make the class object!-)."
   ]
  },
  {
   "cell_type": "code",
   "execution_count": null,
   "id": "82a7f7ac",
   "metadata": {},
   "outputs": [],
   "source": [
    "\n"
   ]
  },
  {
   "cell_type": "code",
   "execution_count": null,
   "id": "fe357116",
   "metadata": {},
   "outputs": [],
   "source": []
  },
  {
   "cell_type": "code",
   "execution_count": null,
   "id": "97141186",
   "metadata": {},
   "outputs": [],
   "source": []
  },
  {
   "cell_type": "code",
   "execution_count": null,
   "id": "6d8b2860",
   "metadata": {},
   "outputs": [],
   "source": []
  }
 ],
 "metadata": {
  "kernelspec": {
   "display_name": "Python 3 (ipykernel)",
   "language": "python",
   "name": "python3"
  },
  "language_info": {
   "codemirror_mode": {
    "name": "ipython",
    "version": 3
   },
   "file_extension": ".py",
   "mimetype": "text/x-python",
   "name": "python",
   "nbconvert_exporter": "python",
   "pygments_lexer": "ipython3",
   "version": "3.9.12"
  }
 },
 "nbformat": 4,
 "nbformat_minor": 5
}
